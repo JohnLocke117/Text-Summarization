{
 "cells": [
  {
   "attachments": {},
   "cell_type": "markdown",
   "metadata": {},
   "source": [
    "Introduction:\n",
    "\n",
    "Abstractive Summarisation"
   ]
  },
  {
   "cell_type": "markdown",
   "metadata": {},
   "source": [
    "Installing Dependencies:\n",
    "\n",
    "1. Installing PyTorch CPU Version. To be upgraded to CUDA version for better performance of the Model.\n",
    "2. Installing Transformers for Hugging Face."
   ]
  },
  {
   "cell_type": "code",
   "execution_count": 1,
   "metadata": {
    "ExecuteTime": {
     "end_time": "2023-04-30T15:40:53.481762Z",
     "start_time": "2023-04-30T15:40:53.472160Z"
    }
   },
   "outputs": [
    {
     "name": "stdout",
     "output_type": "stream",
     "text": [
      "Defaulting to user installation because normal site-packages is not writeable\n",
      "Requirement already satisfied: torch in c:\\users\\varun\\appdata\\roaming\\python\\python310\\site-packages (2.0.0)\n",
      "Requirement already satisfied: torchvision in c:\\users\\varun\\appdata\\roaming\\python\\python310\\site-packages (0.15.1)\n",
      "Requirement already satisfied: torchaudio in c:\\users\\varun\\appdata\\roaming\\python\\python310\\site-packages (2.0.1)\n",
      "Requirement already satisfied: filelock in c:\\users\\varun\\appdata\\roaming\\python\\python310\\site-packages (from torch) (3.12.0)\n",
      "Requirement already satisfied: typing-extensions in c:\\users\\varun\\appdata\\roaming\\python\\python310\\site-packages (from torch) (4.3.0)\n",
      "Requirement already satisfied: sympy in c:\\users\\varun\\appdata\\roaming\\python\\python310\\site-packages (from torch) (1.11.1)\n",
      "Requirement already satisfied: networkx in c:\\users\\varun\\appdata\\roaming\\python\\python310\\site-packages (from torch) (2.8.8)\n",
      "Requirement already satisfied: jinja2 in c:\\users\\varun\\appdata\\roaming\\python\\python310\\site-packages (from torch) (3.1.2)\n",
      "Requirement already satisfied: numpy in c:\\users\\varun\\appdata\\roaming\\python\\python310\\site-packages (from torchvision) (1.23.1)\n",
      "Requirement already satisfied: requests in c:\\users\\varun\\appdata\\roaming\\python\\python310\\site-packages (from torchvision) (2.28.1)\n",
      "Requirement already satisfied: pillow!=8.3.*,>=5.3.0 in c:\\users\\varun\\appdata\\roaming\\python\\python310\\site-packages (from torchvision) (9.2.0)\n",
      "Requirement already satisfied: MarkupSafe>=2.0 in c:\\users\\varun\\appdata\\roaming\\python\\python310\\site-packages (from jinja2->torch) (2.1.1)\n",
      "Requirement already satisfied: charset-normalizer<3,>=2 in c:\\users\\varun\\appdata\\roaming\\python\\python310\\site-packages (from requests->torchvision) (2.1.0)\n",
      "Requirement already satisfied: idna<4,>=2.5 in c:\\users\\varun\\appdata\\roaming\\python\\python310\\site-packages (from requests->torchvision) (3.3)\n",
      "Requirement already satisfied: urllib3<1.27,>=1.21.1 in c:\\users\\varun\\appdata\\roaming\\python\\python310\\site-packages (from requests->torchvision) (1.26.10)\n",
      "Requirement already satisfied: certifi>=2017.4.17 in c:\\users\\varun\\appdata\\roaming\\python\\python310\\site-packages (from requests->torchvision) (2022.6.15)\n",
      "Requirement already satisfied: mpmath>=0.19 in c:\\users\\varun\\appdata\\roaming\\python\\python310\\site-packages (from sympy->torch) (1.3.0)\n",
      "Note: you may need to restart the kernel to use updated packages.\n"
     ]
    },
    {
     "name": "stderr",
     "output_type": "stream",
     "text": [
      "\n",
      "[notice] A new release of pip is available: 23.1 -> 23.1.2\n",
      "[notice] To update, run: python.exe -m pip install --upgrade pip\n"
     ]
    }
   ],
   "source": [
    "# Installing PyTorch:\n",
    "%pip install torch torchvision torchaudio"
   ]
  },
  {
   "cell_type": "code",
   "execution_count": 2,
   "metadata": {
    "ExecuteTime": {
     "end_time": "2023-04-30T15:52:38.120995Z",
     "start_time": "2023-04-30T15:52:32.974489Z"
    },
    "collapsed": false,
    "pycharm": {
     "is_executing": true
    }
   },
   "outputs": [
    {
     "name": "stdout",
     "output_type": "stream",
     "text": [
      "Defaulting to user installation because normal site-packages is not writeable\n",
      "Requirement already satisfied: transformers in c:\\users\\varun\\appdata\\roaming\\python\\python310\\site-packages (4.28.1)\n",
      "Requirement already satisfied: filelock in c:\\users\\varun\\appdata\\roaming\\python\\python310\\site-packages (from transformers) (3.12.0)\n",
      "Requirement already satisfied: huggingface-hub<1.0,>=0.11.0 in c:\\users\\varun\\appdata\\roaming\\python\\python310\\site-packages (from transformers) (0.14.1)\n",
      "Requirement already satisfied: numpy>=1.17 in c:\\users\\varun\\appdata\\roaming\\python\\python310\\site-packages (from transformers) (1.23.1)\n",
      "Requirement already satisfied: packaging>=20.0 in c:\\users\\varun\\appdata\\roaming\\python\\python310\\site-packages (from transformers) (21.3)\n",
      "Requirement already satisfied: pyyaml>=5.1 in c:\\users\\varun\\appdata\\roaming\\python\\python310\\site-packages (from transformers) (6.0)\n",
      "Requirement already satisfied: regex!=2019.12.17 in c:\\users\\varun\\appdata\\roaming\\python\\python310\\site-packages (from transformers) (2022.10.31)\n",
      "Requirement already satisfied: requests in c:\\users\\varun\\appdata\\roaming\\python\\python310\\site-packages (from transformers) (2.28.1)\n",
      "Requirement already satisfied: tokenizers!=0.11.3,<0.14,>=0.11.1 in c:\\users\\varun\\appdata\\roaming\\python\\python310\\site-packages (from transformers) (0.13.3)\n",
      "Requirement already satisfied: tqdm>=4.27 in c:\\users\\varun\\appdata\\roaming\\python\\python310\\site-packages (from transformers) (4.64.1)\n",
      "Requirement already satisfied: fsspec in c:\\users\\varun\\appdata\\roaming\\python\\python310\\site-packages (from huggingface-hub<1.0,>=0.11.0->transformers) (2023.3.0)\n",
      "Requirement already satisfied: typing-extensions>=3.7.4.3 in c:\\users\\varun\\appdata\\roaming\\python\\python310\\site-packages (from huggingface-hub<1.0,>=0.11.0->transformers) (4.3.0)\n",
      "Requirement already satisfied: pyparsing!=3.0.5,>=2.0.2 in c:\\users\\varun\\appdata\\roaming\\python\\python310\\site-packages (from packaging>=20.0->transformers) (3.0.9)\n",
      "Requirement already satisfied: colorama in c:\\users\\varun\\appdata\\roaming\\python\\python310\\site-packages (from tqdm>=4.27->transformers) (0.4.5)\n",
      "Requirement already satisfied: charset-normalizer<3,>=2 in c:\\users\\varun\\appdata\\roaming\\python\\python310\\site-packages (from requests->transformers) (2.1.0)\n",
      "Requirement already satisfied: idna<4,>=2.5 in c:\\users\\varun\\appdata\\roaming\\python\\python310\\site-packages (from requests->transformers) (3.3)\n",
      "Requirement already satisfied: urllib3<1.27,>=1.21.1 in c:\\users\\varun\\appdata\\roaming\\python\\python310\\site-packages (from requests->transformers) (1.26.10)\n",
      "Requirement already satisfied: certifi>=2017.4.17 in c:\\users\\varun\\appdata\\roaming\\python\\python310\\site-packages (from requests->transformers) (2022.6.15)\n",
      "Note: you may need to restart the kernel to use updated packages.\n"
     ]
    },
    {
     "name": "stderr",
     "output_type": "stream",
     "text": [
      "\n",
      "[notice] A new release of pip is available: 23.1 -> 23.1.2\n",
      "[notice] To update, run: python.exe -m pip install --upgrade pip\n"
     ]
    }
   ],
   "source": [
    "# Installing Transformers:\n",
    "%pip install transformers"
   ]
  },
  {
   "cell_type": "code",
   "execution_count": 5,
   "metadata": {},
   "outputs": [
    {
     "name": "stdout",
     "output_type": "stream",
     "text": [
      "Defaulting to user installation because normal site-packages is not writeable\n",
      "Collecting sentencepiece\n",
      "  Using cached sentencepiece-0.1.98-cp310-cp310-win_amd64.whl (977 kB)\n",
      "Installing collected packages: sentencepiece\n",
      "Successfully installed sentencepiece-0.1.98\n",
      "Note: you may need to restart the kernel to use updated packages.\n"
     ]
    },
    {
     "name": "stderr",
     "output_type": "stream",
     "text": [
      "\n",
      "[notice] A new release of pip is available: 23.1 -> 23.1.2\n",
      "[notice] To update, run: python.exe -m pip install --upgrade pip\n"
     ]
    }
   ],
   "source": [
    "%pip install sentencepiece"
   ]
  },
  {
   "cell_type": "markdown",
   "metadata": {
    "collapsed": false
   },
   "source": [
    "Importing and Loading the \"pegasus-cnn_dailymail\" Model from Hugging Face:"
   ]
  },
  {
   "cell_type": "code",
   "execution_count": 4,
   "metadata": {
    "ExecuteTime": {
     "end_time": "2023-04-30T16:20:24.095112Z",
     "start_time": "2023-04-30T16:18:45.024864Z"
    },
    "collapsed": false
   },
   "outputs": [],
   "source": [
    "# Importing Dependencies from transformers:\n",
    "from transformers import PegasusForConditionalGeneration, PegasusTokenizer"
   ]
  },
  {
   "cell_type": "code",
   "execution_count": 5,
   "metadata": {
    "collapsed": false
   },
   "outputs": [],
   "source": [
    "# Creating the Tokenizer:\n",
    "model_name = \"google/pegasus-cnn_dailymail\"\n",
    "tokenizer = PegasusTokenizer.from_pretrained(model_name)"
   ]
  },
  {
   "cell_type": "code",
   "execution_count": 6,
   "metadata": {},
   "outputs": [],
   "source": [
    "# Loading Up the Model:\n",
    "model = PegasusForConditionalGeneration.from_pretrained(model_name)"
   ]
  },
  {
   "attachments": {},
   "cell_type": "markdown",
   "metadata": {},
   "source": [
    "Opening the Dataset Files for Summarisation. The contents of the files are being stored as a String."
   ]
  },
  {
   "cell_type": "code",
   "execution_count": 7,
   "metadata": {},
   "outputs": [
    {
     "name": "stdout",
     "output_type": "stream",
     "text": [
      "Text:  -LRB- CNN -RRB- For the second time during his papacy , Pope Francis has announced a new group of bishops and archbishops set to become cardinals -- and they come from all over the world . Pope Francis said Sunday that he would hold a meeting of cardinals on February 14 `` during which I will name 15 new Cardinals who , coming from 13 countries from every continent , manifest the indissoluble links between the Church of Rome and the particular Churches present in the world , '' according to Vatican Radio .New cardinals are always important because they set the tone in the church and also elect the next pope , CNN Senior Vatican Analyst John L. Allen said . They are sometimes referred to as the princes of the Catholic Church . The new cardinals come from countries such as Ethiopia , New Zealand and Myanmar . `` This is a pope who very much wants to reach out to people on the margins , and you clearly see that in this set , '' Allen said . `` You 're talking about cardinals from typicaly overlooked places , like Cape Verde , the Pacific island of Tonga , Panama , Thailand , Uruguay . ''\n",
      "\n",
      "\n",
      "HAMILTON , Bermuda -LRB- CNN -RRB- -- Four Chinese nationals of Uyghur ethnicity who had been held at the U.S. military 's Guantanamo Bay , Cuba , detention facility have been resettled in Bermuda , officials said Thursday .\n",
      "\n",
      "\n",
      "Kathmandu , Nepal -LRB- CNN -RRB- -- A ferocious leopard may have killed 15 people in Nepal in a 15-month span , its latest victim a 4-year-old boy that the creature dragged away into the jungle to eat .\n",
      "\n",
      "\n",
      "-LRB- CNN -RRB- -- Kyle White now has two pieces of metal to wear -- one , a bracelet inscribed with the names of his six comrades killed in an ambush in Afghanistan , the other , a Medal of Honor given to him for his valor that ensured that death toll was n't higher .\n",
      "\n",
      "\n",
      "-LRB- CNN -RRB- -- The 54 men and 14 boys rescued after being found chained this week at an Islamic religious school in Pakistan have been reunited with their families or placed in shelters , authorities said .\n",
      "\n",
      "\n",
      "After a weekend of intense investigation , authorities are piecing together more details about Friday 's fatal shooting at Los Angeles International Airport , including the suspect 's behavior earlier in the week and a warning from his family that may have come minutes too late .\n",
      "\n",
      "\n",
      "New Haven , Connecticut -LRB- CNN -RRB- -- A judge in New Haven sentenced a 31-year-old man to death Friday for his role in a deadly home invasion that killed a woman and her two daughters in 2007 .\n",
      "\n",
      "\n",
      "ATLANTA , Georgia -LRB- CNN -RRB- -- Dressed head to toe in black , designer Isaac Mizrahi is wearing an outfit that seems to contradict his personality -- and his usual fashion flair .\n",
      "\n",
      "\n",
      "Two car bombs targeting Christians killed at least 38 people in southern Baghdad on Christmas .\n",
      "\n",
      "\n",
      "-LRB- CNN -RRB- Marco Rubio is all in . The Republican senator from Florida has announced that he is seeking the Republican presidential nomination , running on an optimistic message that he embodies the promise of the American Dream .\n",
      "\n",
      "\n",
      "-LRB- CNN -RRB- -- Two of Turkey 's main political parties are pushing for a constitutional amendment to lift bans on headscarves at public universities , a move that has caused concern among Turkey 's secular population .\n",
      "\n",
      "\n",
      "-LRB- CNN -RRB- -- Just when cruise lines thought they might be headed for calmer waters ...\n",
      "\n",
      "\n",
      "The mayor of the eastern Ukrainian city of Kharkiv underwent emergency surgery after being shot in the back , city officials and police said Monday , amid continuing unrest in the region .\n",
      "\n",
      "\n",
      "TOKYO , Japan -LRB- CNN -RRB- -- Sony blamed the global economic slowdown , increased competition and an appreciating yen for a 95 percent drop in third-quarter profits , as the company announced its results Thursday .\n",
      "\n",
      "\n",
      "-LRB- CNN -RRB- -- For centuries , Timbuktu has existed in the Western imagination as a byword for the most exotic , far-flung place conceivable .\n",
      "\n",
      "\n",
      "-LRB- CNN -RRB- -- When Lukas Hartmann , 29 , signed up for 23andMe 's at-home genetic testing service , there were no surprises in his results .\n",
      "\n",
      "\n",
      "-LRB- CNN -RRB- -- Affectionately known in his home city of Madrid as `` the wise man of Hortaleza , '' Luis Aragones left the legacy of helping Spain 's ascension to the top of world football .\n",
      "\n",
      "\n",
      "MOSCOW , Russia -LRB- CNN -RRB- -- Russian space officials say the crew of the Soyuz space ship is resting after a rough ride back to Earth .\n",
      "\n",
      "\n",
      "-LRB- CNN -RRB- -- The worst kept secret in Formula One is finally out -- Fernando Alonso is leaving Ferrari and will be replaced by Sebastian Vettel .\n",
      "\n",
      "\n",
      "-LRB- CNN -RRB- -- Andy Murray 's first match since undergoing back surgery in September ended in a straight sets defeat to Jo-Wilfried Tsonga at an exhibition tournament in Abu Dhabi Thursday .\n",
      "\n",
      "\n",
      "-LRB- CNN -RRB- I 'm Candida Moss and I am professor of New Testament and Early Christianity at the University of Notre Dame . I was an adviser on the `` True Cross '' episode and served as one of the many on-camera experts in CNN 's `` Finding Jesus '' series , which currently airs on Sundays .\n",
      "\n",
      "\n",
      "-LRB- CNN -RRB- -- South Korea 's Red Cross has offered $ 8.4 million in flood aid to North Korea , the Yonhap news agency said Tuesday .\n",
      "\n",
      "\n",
      "BEIJING , China -LRB- CNN -RRB- -- The head of China 's quality watchdog is reported to have resigned over the tainted baby milk scandal that has killed four children and sickened nearly 53,000 others .\n",
      "\n",
      "\n",
      "Clarksburg , West Virginia -LRB- CNN -RRB- -- North Central West Virginia Airport boasts quick check-ins , free , accessible parking and a convenient baggage claim .\n",
      "\n",
      "\n",
      "ISTANBUL , Turkey -LRB- CNN -RRB- -- It 's a common sight in the traffic-clogged streets of Istanbul , a city that straddles two continents .\n",
      "\n",
      "\n",
      "-LRB- CNN -RRB- -- A Florida exterminator and father of four children adopted from Florida 's foster care system has told police that a body found in the pest-control truck he was driving is one of them -- his 10-year-old daughter , authorities said Wednesday .\n",
      "\n",
      "\n",
      "Yangon , Myanmar -LRB- CNN -RRB- -- When Burmese commuters have an accident they do n't dial 911 or any ordinary emergency service .\n",
      "\n",
      "\n",
      "-LRB- CNN -RRB- -- Somalia 's government said Saturday they are investigating the death of a Malaysian cameraman who was shot dead when African Union peacekeepers allegedly fired on his convoy .\n",
      "\n",
      "\n",
      "BEIJING , China -LRB- CNN -RRB- -- When Jimmy Wales visited the headquarters of Hudong.com last month , he had one question for its founder : is it possible for Wikipedia to be the number one online encyclopedia in China ?\n",
      "\n",
      "\n",
      "-LRB- CNN -RRB- -- Nine civilians died in an attack on a luxury hotel in the Afghan capital , a government official said Friday .\n",
      "\n",
      "\n",
      "Miami -LRB- CNN -RRB- -- The 9-year-old girl critically injured when an airplane struck her on a Florida beach last weekend has died , the Sarasota County Sheriff 's Office said Tuesday .\n",
      "\n",
      "\n",
      "-LRB- CNN -RRB- -- Beset by war and sectarian violence , Iraq has not had a lot to laugh about in recent years .\n",
      "\n",
      "\n",
      "-LRB- CNN -RRB- -- `` It 's the most wonderful time of the year . ''\n",
      "\n",
      "\n",
      "-LRB- CNN -RRB- -- Federal civil rights investigators have found `` reasonable cause '' to believe that police in Portland , Oregon , use `` unnecessary or unreasonable force '' with persons who have mental illness , the U.S. Justice Department said .\n",
      "\n",
      "\n",
      "-LRB- CNN -RRB- -- Aid organizations have deployed emergency response teams to Haiti and appealed for donations after the Caribbean nation was was struck by a devastating earthquake described by local officials as a `` catastrophe of major proportions . ''\n",
      "\n",
      "\n",
      "-LRB- CNN -RRB- -- Be bold ! Think big ! Barack Obama wants to do just that . An $ 800 billion economic stimulus plan . Three million jobs . Health care reform . A restructured automobile industry .\n",
      "\n",
      "\n",
      "-LRB- CNN -RRB- -- From personal stories of growing up with gay parents to challenges of what defines a family , the public 's comments on same-sex couples having families was supportive and critical , calm and heated -- sometimes all in one conversation thread .\n",
      "\n",
      "\n",
      "Washington -LRB- CNN -RRB- President Barack Obama on Thursday said he wants the people of France to know the United States `` stands with you today , stands with you tomorrow '' in the wake of this week 's terror attacks .\n",
      "\n",
      "\n",
      "-LRB- CNN -RRB- -- The label on the package claimed that it contained T-shirts and baby toys .\n",
      "\n",
      "\n",
      "-LRB- CNN -RRB- -- Jeff Yeager says the economic downturn is an opportunity for people to simplify their lives and be content with less .\n",
      "\n",
      "\n",
      "-LRB- CNN -RRB- -- We do n't know much about the shooting at Los Angeles International Airport just yet , but it has clearly jangled our collective nerves , dredging up the fear and shock and pain of 9/11 -- the wellspring of our modern airport security process -- reminding us that more than a decade later , flying is still a fraught experience .\n",
      "\n",
      "\n",
      "-LRB- CNN -RRB- -- Having established itself as Apple 's top tablet competitor by going smaller and cheaper , Amazon will now go head to head with the category-defining iPad on its own turf .\n",
      "\n",
      "\n",
      "-LRB- CNN -RRB- -- Rock singer Sammy Hagar , a little older since his Van Halen days but still featuring bountiful blond curls , touted single moms , family and sex Monday night on the premiere of HLN 's `` Dr. Drew . ''\n",
      "\n",
      "\n",
      "Washington -LRB- CNN -RRB- -- Naif Al-Mutawa anticipated a struggle when he launched an Islam-inspired comic book series that he hoped would become a symbol of tolerance .\n",
      "\n",
      "\n",
      "-LRB- CNN -RRB- -- A second Massachusetts compounding pharmacy surrendered its license after state inspectors found `` significant '' issues that could affect sterility , state health officials said .\n",
      "\n",
      "\n",
      "-LRB- CNN -RRB- -- Barcelona beat Real Madrid 3-2 at the Camp Nou on Wednesday to claim the Spanish Super Cup in an ill-tempered El Clasico clash .\n",
      "\n",
      "\n",
      "-LRB- CNN -RRB- -- The inaugural addresses of the presidents are , for the most part , a wasteland of howling rhetoric and dried-out inspiration .\n",
      "\n",
      "\n",
      "Islamabad , Pakistan -LRB- CNN -RRB- -- At least 28 people are dead and at least 218 others were wounded Wednesday after three blasts during a Shiite procession here , authorities in Pakistan said .\n",
      "\n",
      "\n",
      "ATLANTA , Georgia -LRB- CNN -RRB- -- It was an image that got the nation talking : Two giggling young women in oversized sunglasses robbing a bank . The `` Barbie Bandits '' helped their hometown earn the dubious distinction as the nation 's bank robbery capital .\n",
      "\n",
      "\n",
      "Washington -LRB- CNN -RRB- -- When the Obama administration unveils its National Security Strategy Thursday , it will be the first time a president explicitly recognizes the threat posed to the country by radicalized individuals at home .\n",
      "\n",
      "\n",
      "-LRB- CNN -RRB- -- Pamela Anderson is set to bring a little Hollywood glamor to motorsport after becoming part owner of a sports car racing team .\n",
      "\n",
      "\n",
      "LONDON , England -LRB- CNN -RRB- -- Britain 's Prince Harry turned 25 Tuesday in the knowledge that he is now entitled to part of the multi-million dollar inheritance left to him by his late mother .\n",
      "\n",
      "\n",
      "-LRB- CNN -RRB- -- The flight data and cockpit voice recorders from JetBlue Flight 191 , which made an emergency landing this week , have been retrieved and will be analyzed , officials said Thursday .\n",
      "\n",
      "\n",
      "-LRB- CNN -RRB- Ferguson is crumbling . The cowardly and reprehensible shooting Wednesday night of two police officers came in a tumultuous seven days for the Missouri town , which had already seen Ferguson Police Chief Thomas Jackson announce his resignation after a damning Justice Department report on its police department .\n",
      "\n",
      "\n",
      "Rhode Island resident Lisa Kondvar remembers her mother as a beautiful , small and vivacious blonde .\n",
      "\n",
      "\n",
      "London -LRB- CNN -RRB- -- London 's Heathrow Airport is `` fully operational '' and returning to normal after an emergency landing Friday forced the closing of both runways , the airport said -- but many travelers are likely to suffer delays anyway .\n",
      "\n",
      "\n",
      "Washington -LRB- CNN -RRB- -- House Democrats are bracing for a rough election night next Tuesday , and top leaders are making a major push for rank and file members to open their wallets to help save those vulnerable Democrats who are in danger of losing their seats .\n",
      "\n",
      "\n",
      "San Angelo , Texas -LRB- CNN -RRB- -- The Texas jury that found polygamist sect leader Warren Jeffs guilty Thursday of sexual assault will deliberate again to determine his punishment .\n",
      "\n",
      "\n",
      "The Western Australian government caught 172 sharks , and killed 50 of the largest animals , as part of a culling program that has sparked anger among conservationists .\n",
      "\n",
      "\n",
      "-LRB- CNN -RRB- If Usain Bolt ever takes up figure skating , he will know how Kauto Star feels .\n",
      "\n",
      "\n",
      "Well , it seems the U.S. Navy finally got the memo : DO N'T USE ALL CAPS ! IT 'S RUDE !\n",
      "\n",
      "\n",
      "-LRB- CNN -RRB- -- Lionel Messi will captain Argentina for the first time as they take on Venezuela in a friendly in cricket-mad India Friday .\n",
      "\n",
      "\n",
      "New York -LRB- CNN -RRB- -- Decades ago , when the Department of Defense was creating the predecessor to today 's Internet , one of the main goals was to create a communications system that could endure catastrophic disasters .\n",
      "\n",
      "\n",
      "-LRB- CNN -RRB- -- The International Atomic Energy Agency issued a critical report Tuesday saying that it has `` serious concerns '' about Iran 's nuclear program and has obtained `` credible '' information that the Islamic republic may be developing nuclear weapons .\n",
      "\n",
      "\n",
      "-LRB- CNN -RRB- -- South African golf was handed another boost on Tuesday when the country was awarded the right to host one of the lucrative World Golf Championships events for the next five years .\n",
      "\n",
      "\n",
      "-LRB- CNN -RRB- -- In a place accustomed to tough stretches , this has been a particularly tough few days at the White House .\n",
      "\n",
      "\n",
      "Tokyo -LRB- CNN -RRB- -- Japan 's Ministry of Health , Labor and Welfare is investigating a report that workers at the damaged Fukushima Daiichi nuclear power plant were told to use lead covers in order to hide unsafe radiation levels , an official said .\n",
      "\n",
      "\n",
      "-LRB- CNN -RRB- -- Scratch Christian Bale off the list of actors supposed to play Steve Jobs .\n",
      "\n",
      "\n",
      "-LRB- CNN -RRB- -- The melting glacial ice in places like the Alps , Greenland and the Himalayas is a dramatic visual document of how our planet 's climate is changing .\n",
      "\n",
      "\n",
      "-LRB- CNN -RRB- -- So we thought Asian kids did great in school . Think again .\n",
      "\n",
      "\n",
      "-LRB- CNN -RRB- -- San Francisco 's new sheriff is facing misdemeanor charges over an alleged domestic abuse incident on New Year 's Eve , authorities said .\n",
      "\n",
      "\n",
      "Washington -LRB- CNN -RRB- -- President Barack Obama has approved the use of armed Predator drones in Libya , Defense Secretary Robert Gates said Thursday .\n",
      "\n",
      "\n",
      "Fancy a stroll around the observation deck of the tallest building in the world ?\n",
      "\n",
      "\n",
      "Super Bowl XLVIII started out bad for the Denver Broncos . The Seattle Seahawks made sure it got worse .\n",
      "\n",
      "\n",
      "-LRB- CNN -RRB- -- All five remaining inmates held in the Mississippi pardons controversy have now been released from prison .\n",
      "\n",
      "\n",
      "-LRB- CNN -RRB- -- London 's Metropolitan Police have praised the good behavior of Scotland fans during Sunday 's match against Brazil , despite claims by Brazilian striker Neymar that a banana was thrown at him as a form of racist abuse .\n",
      "\n",
      "\n",
      "He says it 's his last fight . And it 's been his hardest .\n",
      "\n",
      "\n",
      "-LRB- CNN -RRB- -- Investigators now say that , according to automated electronic connections attempts by the ACARS data reporting system of Malaysia Flight 370 , the airplane flew far to the west , in an entirely different direction than it should have been heading as per its original flight-planned route , which was to the north .\n",
      "\n",
      "\n",
      "When exactly did once-lowly kale become an international locavore staple ?\n",
      "\n",
      "\n",
      "-LRB- CNN -RRB- -- Comprehensive immigration reform . Suddenly the phrase is on everyone 's lips . From President Barack Obama to rising Republican star Sen. Marco Rubio to right-wing television hosts Sean Hannity and Bill O'Reilly . As if by magic , everybody 's for it after six years of ducking and using reform as a political wedge issue -- everybody wants to get it done .\n",
      "\n",
      "\n",
      "-LRB- CNN -RRB- -- Hating the Internal Revenue Service is an American pastime that transcends political affiliation .\n",
      "\n",
      "\n",
      "Why do their cheap meatballs taste so good ?\n",
      "\n",
      "\n",
      "-LRB- CNN -RRB- -- `` These types of patients have such disfigurement beforehand they ca n't eat , they ca n't breathe properly . It 's about functionality , '' says Dr. Richard Luskin , CEO of the New England Organ Bank .\n",
      "\n",
      "\n",
      "Call them drones ; call them toy airplanes with digital cameras dropped into their girths .\n",
      "\n",
      "\n",
      "-LRB- CNN -RRB- -- Move over , Emma . There 's a new queen in town .\n",
      "\n",
      "\n",
      "LOS ANGELES , California -LRB- CNN -RRB- -- Los Angeles fire officials say they 're worried that nighttime winds could push two major wildfires , which already are blamed in two deaths , closer to pricey neighborhoods on the Pacific coast .\n",
      "\n",
      "\n",
      "-LRB- CNN -RRB- -- In September 1985 a devastating earthquake measuring 8.1 on the Richter Scale smashed into Mexico City killing 10,000 people and leaving parts of the city in ruins .\n",
      "\n",
      "\n",
      "Coral Gables , Florida -LRB- CNN -RRB- Former President Bill Clinton on Saturday defended his family foundation 's practice of taking money from foreign countries , arguing that while he does n't agree with all of the policies of countries that contributed , he feels the foundation has `` done a lot more good than harm . ''\n",
      "\n",
      "\n",
      "-LRB- CNN -RRB- -- Bayern Munich 's record winning start to the Bundesliga season came to an abrupt end Sunday as they were stunned 2-1 at home by Bayer Leverkusen .\n",
      "\n",
      "\n",
      "-LRB- CNN -RRB- SPOILER ALERT ! It 's not just women getting cloned .\n",
      "\n",
      "\n",
      "Washington -LRB- CNN -RRB- -- In one ill-fated fundraiser , Mitt Romney managed to offend Palestinians , Latinos and some of the same people he 's counting on for support if he wants to unseat President Barack Obama .\n",
      "\n",
      "\n",
      "-LRB- CNN -RRB- -- As the world knows , peace can sometimes be fleeting .\n",
      "\n",
      "\n",
      "-LRB- CNN -RRB- -- Over the past few weeks almost a third of all Americans headed back to classrooms -- from early learning centers to universities , as students and as teachers -- accompanied by the usual seasonal mix of joys and jitters . Or perhaps not .\n",
      "\n",
      "\n",
      "-LRB- CNN -RRB- Japan 's Shimanami Kaido might be an expressway , but it was designed with the cyclist in mind .\n",
      "\n",
      "\n",
      "-LRB- CNN -RRB- -- President Abraham Lincoln and his wife , Mary Todd , needed a baby-sitter .\n",
      "\n",
      "\n",
      "Port-Au-Prince , Haiti -LRB- CNN -RRB- -- Haiti 's economy is getting a boost thanks to a venture with one of Korea 's largest companies that promises to bring 20,000 garment industry jobs to a new industrial park in the north of the country .\n",
      "\n",
      "\n",
      "-LRB- CNN -RRB- -- Crews in Southern California struggled to get the upper hand on a fast-moving wildfire in Santa Barbara County early Tuesday .\n",
      "\n",
      "\n",
      "-LRB- CNN -RRB- In the gentle yet fiercely warm surrounds of the southern Ugandan countryside , Mwanja Banuli looks on as farmhands fill his truck with sugar cane .\n",
      "\n",
      "\n",
      "-LRB- CNN -RRB- Emergency operators get lots of crazy calls , but few start like this .\n",
      "\n",
      "\n",
      "HARARE , Zimbabwe -LRB- CNN -RRB- -- Talks among regional African leaders failed Monday to resolve a long-standing power-sharing dispute between embattled Zimbabwean President Robert Mugabe and opposition leader Morgan Tsvangirai .\n",
      "\n",
      "\n",
      "\n"
     ]
    }
   ],
   "source": [
    "# Loading up the Files:\n",
    "text = \"\"\n",
    "\n",
    "import os, glob\n",
    "path = 'D:\\Coding\\Python\\Projects\\Text Summarization\\Dataset\\TestData'\n",
    "for filename in glob.glob(os.path.join(path, '*.story')):\n",
    "   with open(os.path.join(os.getcwd(), filename), 'r') as text_file: # open in readonly mode\n",
    "      text += text_file.readlines()[0]\n",
    "      # text.join(text_file)\n",
    "      text += \"\\n\\n\"\n",
    "\n",
    "print(\"Text: \", text)"
   ]
  },
  {
   "attachments": {},
   "cell_type": "markdown",
   "metadata": {},
   "source": [
    "Performing Tokenization of Text:\n",
    "Using tokenizer to create tokens of the Text.\n",
    "\n",
    "truncation=True is used to truncate the text to pass through the model as there are limits on how much Text can be passed.\n",
    "\n",
    "padding=\"longest\" is used to pad the shorter tokens up to the length of the longest tokens. This is done to create fixed size tokens.\n",
    "\n",
    "return_tensors=\"pt\" pt: PyTorch"
   ]
  },
  {
   "cell_type": "code",
   "execution_count": 8,
   "metadata": {},
   "outputs": [
    {
     "name": "stdout",
     "output_type": "stream",
     "text": [
      "{'input_ids': tensor([[  233, 20447,   788,  ...,   110,   107,     1]]), 'attention_mask': tensor([[1, 1, 1,  ..., 1, 1, 1]])}\n"
     ]
    }
   ],
   "source": [
    "# Create Tokens:\n",
    "tokens = tokenizer(text, truncation=True, padding=\"longest\", return_tensors=\"pt\")\n",
    "print(tokens)"
   ]
  },
  {
   "cell_type": "code",
   "execution_count": 9,
   "metadata": {},
   "outputs": [
    {
     "name": "stderr",
     "output_type": "stream",
     "text": [
      "C:\\Users\\varun\\AppData\\Roaming\\Python\\Python310\\site-packages\\transformers\\generation\\utils.py:1313: UserWarning: Using `max_length`'s default (128) to control the generation length. This behaviour is deprecated and will be removed from the config in v5 of Transformers -- we recommend using `max_new_tokens` to control the maximum length of the generation.\n",
      "  warnings.warn(\n"
     ]
    }
   ],
   "source": [
    "# Summarising:\n",
    "summary = model.generate(**tokens) # Unpacking the tokens in model.generate()"
   ]
  },
  {
   "cell_type": "code",
   "execution_count": 10,
   "metadata": {},
   "outputs": [
    {
     "name": "stdout",
     "output_type": "stream",
     "text": [
      "tensor([[    0, 11481,  7756,   148,  1487,   114,   177,   456,   113, 35712,\n",
      "           111, 66941,   116,   323,   112,   460, 30726,   116,  1315,   111,\n",
      "           157,   331,   135,   149,   204,   109,   278,   110,   107,   106,\n",
      "           159,   177, 30726,   116,   331,   135,  1105,   253,   130, 16958,\n",
      "           110,   108,   351,  3571,   111, 14838,   110,   107,   106, 39892,\n",
      "           127, 45732,   424,   154,   703,   160,  1197,  1034,   116, 11126,\n",
      "          3389,   134,  2726,  3072,  1142,  3537,   110,   107,     1]])\n"
     ]
    }
   ],
   "source": [
    "# Tokenized Summary:\n",
    "print(summary)"
   ]
  },
  {
   "cell_type": "code",
   "execution_count": 15,
   "metadata": {},
   "outputs": [
    {
     "name": "stdout",
     "output_type": "stream",
     "text": [
      "<pad>Pope Francis has announced a new group of bishops and archbishops set to become cardinals -- and they come from all over the world.<n>The new cardinals come from countries such as Ethiopia, New Zealand and Myanmar.<n>Authorities are piecing together more details about Friday's fatal shooting at Los Angeles International Airport.</s>\n"
     ]
    }
   ],
   "source": [
    "# Decoding the Tokens:\n",
    "summary_fin = tokenizer.decode(summary[0])\n",
    "print(summary_fin)"
   ]
  },
  {
   "attachments": {},
   "cell_type": "markdown",
   "metadata": {},
   "source": [
    "ROUGE Metric:"
   ]
  },
  {
   "cell_type": "code",
   "execution_count": 12,
   "metadata": {},
   "outputs": [
    {
     "name": "stdout",
     "output_type": "stream",
     "text": [
      "Defaulting to user installation because normal site-packages is not writeable\n",
      "Requirement already satisfied: rouge in c:\\users\\varun\\appdata\\roaming\\python\\python310\\site-packages (1.0.1)\n",
      "Requirement already satisfied: six in c:\\users\\varun\\appdata\\roaming\\python\\python310\\site-packages (from rouge) (1.16.0)\n",
      "Note: you may need to restart the kernel to use updated packages.\n"
     ]
    }
   ],
   "source": [
    "%pip install rouge"
   ]
  },
  {
   "cell_type": "code",
   "execution_count": 13,
   "metadata": {},
   "outputs": [],
   "source": [
    "from rouge import Rouge"
   ]
  },
  {
   "cell_type": "code",
   "execution_count": 16,
   "metadata": {},
   "outputs": [
    {
     "data": {
      "text/plain": [
       "[{'rouge-1': {'r': 0.0286512928022362,\n",
       "   'p': 0.8723404255319149,\n",
       "   'f': 0.055480378274622294},\n",
       "  'rouge-2': {'r': 0.014727011494252873,\n",
       "   'p': 0.803921568627451,\n",
       "   'f': 0.028924161904179617},\n",
       "  'rouge-l': {'r': 0.0286512928022362,\n",
       "   'p': 0.8723404255319149,\n",
       "   'f': 0.055480378274622294}}]"
      ]
     },
     "execution_count": 16,
     "metadata": {},
     "output_type": "execute_result"
    }
   ],
   "source": [
    "rouge = Rouge()\n",
    "rouge.get_scores(summary_fin, text)"
   ]
  },
  {
   "cell_type": "code",
   "execution_count": null,
   "metadata": {},
   "outputs": [],
   "source": []
  }
 ],
 "metadata": {
  "kernelspec": {
   "display_name": "Python 3 (ipykernel)",
   "language": "python",
   "name": "python3"
  },
  "language_info": {
   "codemirror_mode": {
    "name": "ipython",
    "version": 3
   },
   "file_extension": ".py",
   "mimetype": "text/x-python",
   "name": "python",
   "nbconvert_exporter": "python",
   "pygments_lexer": "ipython3",
   "version": "3.10.2"
  }
 },
 "nbformat": 4,
 "nbformat_minor": 1
}
